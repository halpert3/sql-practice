{
 "cells": [
  {
   "cell_type": "code",
   "execution_count": 1,
   "metadata": {
    "execution": {
     "iopub.execute_input": "2021-06-25T17:59:28.606915Z",
     "iopub.status.busy": "2021-06-25T17:59:28.605921Z",
     "iopub.status.idle": "2021-06-25T17:59:32.153217Z",
     "shell.execute_reply": "2021-06-25T17:59:32.152213Z",
     "shell.execute_reply.started": "2021-06-25T17:59:28.606915Z"
    }
   },
   "outputs": [],
   "source": [
    "import pandas as pd"
   ]
  },
  {
   "cell_type": "markdown",
   "metadata": {},
   "source": [
    "# Installing SQL"
   ]
  },
  {
   "cell_type": "code",
   "execution_count": 2,
   "metadata": {
    "execution": {
     "iopub.execute_input": "2021-06-25T18:11:22.435919Z",
     "iopub.status.busy": "2021-06-25T18:11:22.422919Z",
     "iopub.status.idle": "2021-06-25T18:11:49.288020Z",
     "shell.execute_reply": "2021-06-25T18:11:49.286020Z",
     "shell.execute_reply.started": "2021-06-25T18:11:22.435919Z"
    }
   },
   "outputs": [
    {
     "name": "stdout",
     "output_type": "stream",
     "text": [
      "Collecting ipython-sql\n",
      "  Downloading ipython_sql-0.4.0-py3-none-any.whl (19 kB)\n",
      "Collecting sqlparse\n",
      "  Downloading sqlparse-0.4.1-py3-none-any.whl (42 kB)\n",
      "Collecting prettytable<1\n",
      "  Downloading prettytable-0.7.2.zip (28 kB)\n",
      "Requirement already satisfied: ipython-genutils>=0.1.0 in c:\\users\\halpe\\.conda\\envs\\learn-env\\lib\\site-packages (from ipython-sql) (0.2.0)\n",
      "Collecting sqlalchemy>=0.6.7\n",
      "  Downloading SQLAlchemy-1.4.19-cp36-cp36m-win_amd64.whl (1.5 MB)\n",
      "Requirement already satisfied: ipython>=1.0 in c:\\users\\halpe\\.conda\\envs\\learn-env\\lib\\site-packages (from ipython-sql) (7.8.0)\n",
      "Requirement already satisfied: six in c:\\users\\halpe\\.conda\\envs\\learn-env\\lib\\site-packages (from ipython-sql) (1.15.0)\n",
      "Requirement already satisfied: decorator in c:\\users\\halpe\\.conda\\envs\\learn-env\\lib\\site-packages (from ipython>=1.0->ipython-sql) (4.4.0)\n",
      "Requirement already satisfied: colorama in c:\\users\\halpe\\.conda\\envs\\learn-env\\lib\\site-packages (from ipython>=1.0->ipython-sql) (0.4.1)\n",
      "Requirement already satisfied: jedi>=0.10 in c:\\users\\halpe\\.conda\\envs\\learn-env\\lib\\site-packages (from ipython>=1.0->ipython-sql) (0.15.1)\n",
      "Requirement already satisfied: traitlets>=4.2 in c:\\users\\halpe\\.conda\\envs\\learn-env\\lib\\site-packages (from ipython>=1.0->ipython-sql) (4.3.3)\n",
      "Requirement already satisfied: prompt-toolkit<2.1.0,>=2.0.0 in c:\\users\\halpe\\.conda\\envs\\learn-env\\lib\\site-packages (from ipython>=1.0->ipython-sql) (2.0.10)\n",
      "Requirement already satisfied: pickleshare in c:\\users\\halpe\\.conda\\envs\\learn-env\\lib\\site-packages (from ipython>=1.0->ipython-sql) (0.7.5)\n",
      "Requirement already satisfied: setuptools>=18.5 in c:\\users\\halpe\\appdata\\roaming\\python\\python36\\site-packages (from ipython>=1.0->ipython-sql) (54.2.0)\n",
      "Requirement already satisfied: pygments in c:\\users\\halpe\\.conda\\envs\\learn-env\\lib\\site-packages (from ipython>=1.0->ipython-sql) (2.4.2)\n",
      "Requirement already satisfied: backcall in c:\\users\\halpe\\.conda\\envs\\learn-env\\lib\\site-packages (from ipython>=1.0->ipython-sql) (0.1.0)\n",
      "Requirement already satisfied: parso>=0.5.0 in c:\\users\\halpe\\.conda\\envs\\learn-env\\lib\\site-packages (from jedi>=0.10->ipython>=1.0->ipython-sql) (0.5.1)\n",
      "Requirement already satisfied: wcwidth in c:\\users\\halpe\\.conda\\envs\\learn-env\\lib\\site-packages (from prompt-toolkit<2.1.0,>=2.0.0->ipython>=1.0->ipython-sql) (0.1.7)\n",
      "Requirement already satisfied: importlib-metadata in c:\\users\\halpe\\appdata\\roaming\\python\\python36\\site-packages (from sqlalchemy>=0.6.7->ipython-sql) (3.10.0)\n",
      "Collecting greenlet!=0.4.17\n",
      "  Downloading greenlet-1.1.0-cp36-cp36m-win_amd64.whl (95 kB)\n",
      "Requirement already satisfied: zipp>=0.5 in c:\\users\\halpe\\appdata\\roaming\\python\\python36\\site-packages (from importlib-metadata->sqlalchemy>=0.6.7->ipython-sql) (3.4.1)\n",
      "Requirement already satisfied: typing-extensions>=3.6.4 in c:\\users\\halpe\\appdata\\roaming\\python\\python36\\site-packages (from importlib-metadata->sqlalchemy>=0.6.7->ipython-sql) (3.7.4.3)\n",
      "Building wheels for collected packages: prettytable\n",
      "  Building wheel for prettytable (setup.py): started\n",
      "  Building wheel for prettytable (setup.py): finished with status 'done'\n",
      "  Created wheel for prettytable: filename=prettytable-0.7.2-py3-none-any.whl size=13699 sha256=571e787d615602798260e8c2de140f1bd72ffd72808f2b44b9a7060402ef6bc4\n",
      "  Stored in directory: c:\\users\\halpe\\appdata\\local\\pip\\cache\\wheels\\11\\00\\57\\e546bd5a658bfe75edfa8584ce66aa7868f742c22cee56ecac\n",
      "Successfully built prettytable\n",
      "Installing collected packages: greenlet, sqlparse, sqlalchemy, prettytable, ipython-sql\n",
      "Successfully installed greenlet-1.1.0 ipython-sql-0.4.0 prettytable-0.7.2 sqlalchemy-1.4.19 sqlparse-0.4.1\n"
     ]
    },
    {
     "name": "stderr",
     "output_type": "stream",
     "text": [
      "WARNING: Ignoring invalid distribution -umpy (c:\\users\\halpe\\.conda\\envs\\learn-env\\lib\\site-packages)\n",
      "WARNING: Ignoring invalid distribution -lotly (c:\\users\\halpe\\.conda\\envs\\learn-env\\lib\\site-packages)\n",
      "WARNING: Ignoring invalid distribution -umpy (c:\\users\\halpe\\.conda\\envs\\learn-env\\lib\\site-packages)\n",
      "WARNING: Ignoring invalid distribution -lotly (c:\\users\\halpe\\.conda\\envs\\learn-env\\lib\\site-packages)\n",
      "WARNING: Ignoring invalid distribution -umpy (c:\\users\\halpe\\.conda\\envs\\learn-env\\lib\\site-packages)\n",
      "WARNING: Ignoring invalid distribution -lotly (c:\\users\\halpe\\.conda\\envs\\learn-env\\lib\\site-packages)\n",
      "WARNING: Ignoring invalid distribution -umpy (c:\\users\\halpe\\.conda\\envs\\learn-env\\lib\\site-packages)\n",
      "WARNING: Ignoring invalid distribution -lotly (c:\\users\\halpe\\.conda\\envs\\learn-env\\lib\\site-packages)\n",
      "WARNING: Ignoring invalid distribution -umpy (c:\\users\\halpe\\.conda\\envs\\learn-env\\lib\\site-packages)\n",
      "WARNING: Ignoring invalid distribution -lotly (c:\\users\\halpe\\.conda\\envs\\learn-env\\lib\\site-packages)\n",
      "WARNING: Ignoring invalid distribution -umpy (c:\\users\\halpe\\.conda\\envs\\learn-env\\lib\\site-packages)\n",
      "WARNING: Ignoring invalid distribution -lotly (c:\\users\\halpe\\.conda\\envs\\learn-env\\lib\\site-packages)\n",
      "WARNING: Ignoring invalid distribution -umpy (c:\\users\\halpe\\.conda\\envs\\learn-env\\lib\\site-packages)\n",
      "WARNING: Ignoring invalid distribution -lotly (c:\\users\\halpe\\.conda\\envs\\learn-env\\lib\\site-packages)\n",
      "WARNING: Ignoring invalid distribution -umpy (c:\\users\\halpe\\.conda\\envs\\learn-env\\lib\\site-packages)\n",
      "WARNING: Ignoring invalid distribution -lotly (c:\\users\\halpe\\.conda\\envs\\learn-env\\lib\\site-packages)\n"
     ]
    }
   ],
   "source": [
    "!pip install ipython-sql"
   ]
  },
  {
   "cell_type": "markdown",
   "metadata": {},
   "source": [
    "# Working with SQL"
   ]
  },
  {
   "cell_type": "markdown",
   "metadata": {},
   "source": [
    "### Load SQL into notebook"
   ]
  },
  {
   "cell_type": "code",
   "execution_count": 3,
   "metadata": {
    "execution": {
     "iopub.execute_input": "2021-06-25T18:12:04.354070Z",
     "iopub.status.busy": "2021-06-25T18:12:04.353071Z",
     "iopub.status.idle": "2021-06-25T18:12:05.689778Z",
     "shell.execute_reply": "2021-06-25T18:12:05.688737Z",
     "shell.execute_reply.started": "2021-06-25T18:12:04.354070Z"
    }
   },
   "outputs": [],
   "source": [
    "%load_ext sql"
   ]
  },
  {
   "cell_type": "markdown",
   "metadata": {},
   "source": [
    "### We need a connection string to connect to the database. For SQLite, it is:"
   ]
  },
  {
   "cell_type": "code",
   "execution_count": 4,
   "metadata": {
    "execution": {
     "iopub.execute_input": "2021-06-25T18:12:17.855642Z",
     "iopub.status.busy": "2021-06-25T18:12:17.855642Z",
     "iopub.status.idle": "2021-06-25T18:12:17.918641Z",
     "shell.execute_reply": "2021-06-25T18:12:17.917639Z",
     "shell.execute_reply.started": "2021-06-25T18:12:17.855642Z"
    }
   },
   "outputs": [],
   "source": [
    "%sql sqlite://"
   ]
  },
  {
   "cell_type": "markdown",
   "metadata": {
    "execution": {
     "iopub.execute_input": "2021-06-25T18:18:11.411972Z",
     "iopub.status.busy": "2021-06-25T18:18:11.410979Z",
     "iopub.status.idle": "2021-06-25T18:18:11.419975Z",
     "shell.execute_reply": "2021-06-25T18:18:11.418975Z",
     "shell.execute_reply.started": "2021-06-25T18:18:11.411972Z"
    }
   },
   "source": [
    "### Create table\n",
    "\n",
    "Note, each cell needs to be annotated with `%%sql`. This tells the Jupyter Notebook that the code in the cell is SQL."
   ]
  },
  {
   "cell_type": "code",
   "execution_count": 6,
   "metadata": {
    "execution": {
     "iopub.execute_input": "2021-06-25T18:12:59.392704Z",
     "iopub.status.busy": "2021-06-25T18:12:59.391743Z",
     "iopub.status.idle": "2021-06-25T18:12:59.448703Z",
     "shell.execute_reply": "2021-06-25T18:12:59.446702Z",
     "shell.execute_reply.started": "2021-06-25T18:12:59.392704Z"
    }
   },
   "outputs": [
    {
     "name": "stdout",
     "output_type": "stream",
     "text": [
      " * sqlite://\n",
      "Done.\n",
      "6 rows affected.\n"
     ]
    },
    {
     "data": {
      "text/plain": [
       "[]"
      ]
     },
     "execution_count": 6,
     "metadata": {},
     "output_type": "execute_result"
    }
   ],
   "source": [
    "%%sql\n",
    "\n",
    "CREATE TABLE sales\n",
    "(\n",
    "    key       varchar(6),\n",
    "    ts        timestamp,\n",
    "    product   integer,\n",
    "    completed boolean,\n",
    "    price     float\n",
    ");\n",
    "INSERT INTO sales\n",
    "VALUES ('sale_1', '2019-11-08 00:00', 0, TRUE, 1.1),\n",
    "       ('sale_2', '2019-11-08 01:00', 0, FALSE, 1.2),\n",
    "       ('sale_3', '2019-11-08 01:00', 0, TRUE, 1.3),\n",
    "       ('sale_4', '2019-11-08 01:00', 1, FALSE, 1.4),\n",
    "       ('sale_5', '2019-11-08 02:00', 1, TRUE, 1.5),\n",
    "       ('sale_6', '2019-11-08 02:00', 1, TRUE, 1.5);"
   ]
  },
  {
   "cell_type": "code",
   "execution_count": 8,
   "metadata": {
    "execution": {
     "iopub.execute_input": "2021-06-25T18:13:25.178850Z",
     "iopub.status.busy": "2021-06-25T18:13:25.177849Z",
     "iopub.status.idle": "2021-06-25T18:13:25.206848Z",
     "shell.execute_reply": "2021-06-25T18:13:25.204866Z",
     "shell.execute_reply.started": "2021-06-25T18:13:25.178850Z"
    }
   },
   "outputs": [
    {
     "name": "stdout",
     "output_type": "stream",
     "text": [
      " * sqlite://\n",
      "Done.\n"
     ]
    },
    {
     "data": {
      "text/html": [
       "<table>\n",
       "    <tr>\n",
       "        <th>key</th>\n",
       "        <th>ts</th>\n",
       "        <th>product</th>\n",
       "        <th>completed</th>\n",
       "        <th>price</th>\n",
       "    </tr>\n",
       "    <tr>\n",
       "        <td>sale_1</td>\n",
       "        <td>2019-11-08 00:00</td>\n",
       "        <td>0</td>\n",
       "        <td>1</td>\n",
       "        <td>1.1</td>\n",
       "    </tr>\n",
       "    <tr>\n",
       "        <td>sale_2</td>\n",
       "        <td>2019-11-08 01:00</td>\n",
       "        <td>0</td>\n",
       "        <td>0</td>\n",
       "        <td>1.2</td>\n",
       "    </tr>\n",
       "    <tr>\n",
       "        <td>sale_3</td>\n",
       "        <td>2019-11-08 01:00</td>\n",
       "        <td>0</td>\n",
       "        <td>1</td>\n",
       "        <td>1.3</td>\n",
       "    </tr>\n",
       "    <tr>\n",
       "        <td>sale_4</td>\n",
       "        <td>2019-11-08 01:00</td>\n",
       "        <td>1</td>\n",
       "        <td>0</td>\n",
       "        <td>1.4</td>\n",
       "    </tr>\n",
       "    <tr>\n",
       "        <td>sale_5</td>\n",
       "        <td>2019-11-08 02:00</td>\n",
       "        <td>1</td>\n",
       "        <td>1</td>\n",
       "        <td>1.5</td>\n",
       "    </tr>\n",
       "    <tr>\n",
       "        <td>sale_6</td>\n",
       "        <td>2019-11-08 02:00</td>\n",
       "        <td>1</td>\n",
       "        <td>1</td>\n",
       "        <td>1.5</td>\n",
       "    </tr>\n",
       "</table>"
      ],
      "text/plain": [
       "[('sale_1', '2019-11-08 00:00', 0, 1, 1.1),\n",
       " ('sale_2', '2019-11-08 01:00', 0, 0, 1.2),\n",
       " ('sale_3', '2019-11-08 01:00', 0, 1, 1.3),\n",
       " ('sale_4', '2019-11-08 01:00', 1, 0, 1.4),\n",
       " ('sale_5', '2019-11-08 02:00', 1, 1, 1.5),\n",
       " ('sale_6', '2019-11-08 02:00', 1, 1, 1.5)]"
      ]
     },
     "execution_count": 8,
     "metadata": {},
     "output_type": "execute_result"
    }
   ],
   "source": [
    "%%sql\n",
    "\n",
    "select * from sales;"
   ]
  },
  {
   "cell_type": "markdown",
   "metadata": {},
   "source": [
    "Below you're assigning the previous output of the cell to the variable `result`. That's what the `_` is doing."
   ]
  },
  {
   "cell_type": "code",
   "execution_count": 9,
   "metadata": {
    "execution": {
     "iopub.execute_input": "2021-06-25T18:14:02.211660Z",
     "iopub.status.busy": "2021-06-25T18:14:02.210662Z",
     "iopub.status.idle": "2021-06-25T18:14:02.216662Z",
     "shell.execute_reply": "2021-06-25T18:14:02.215661Z",
     "shell.execute_reply.started": "2021-06-25T18:14:02.211660Z"
    }
   },
   "outputs": [],
   "source": [
    "result = _"
   ]
  },
  {
   "cell_type": "code",
   "execution_count": 10,
   "metadata": {
    "execution": {
     "iopub.execute_input": "2021-06-25T18:14:16.683141Z",
     "iopub.status.busy": "2021-06-25T18:14:16.683141Z",
     "iopub.status.idle": "2021-06-25T18:14:16.699142Z",
     "shell.execute_reply": "2021-06-25T18:14:16.698138Z",
     "shell.execute_reply.started": "2021-06-25T18:14:16.683141Z"
    }
   },
   "outputs": [
    {
     "data": {
      "text/plain": [
       "sql.run.ResultSet"
      ]
     },
     "execution_count": 10,
     "metadata": {},
     "output_type": "execute_result"
    }
   ],
   "source": [
    "type(result)"
   ]
  },
  {
   "cell_type": "markdown",
   "metadata": {},
   "source": [
    "Now, let’s convert the ResultSet directly to a pandas DataFrame with:"
   ]
  },
  {
   "cell_type": "code",
   "execution_count": 11,
   "metadata": {
    "execution": {
     "iopub.execute_input": "2021-06-25T18:14:26.581993Z",
     "iopub.status.busy": "2021-06-25T18:14:26.581993Z",
     "iopub.status.idle": "2021-06-25T18:14:26.678990Z",
     "shell.execute_reply": "2021-06-25T18:14:26.676990Z",
     "shell.execute_reply.started": "2021-06-25T18:14:26.581993Z"
    }
   },
   "outputs": [],
   "source": [
    "df = result.DataFrame()"
   ]
  },
  {
   "cell_type": "code",
   "execution_count": 14,
   "metadata": {
    "execution": {
     "iopub.execute_input": "2021-06-25T18:15:20.621506Z",
     "iopub.status.busy": "2021-06-25T18:15:20.621506Z",
     "iopub.status.idle": "2021-06-25T18:15:20.635509Z",
     "shell.execute_reply": "2021-06-25T18:15:20.634505Z",
     "shell.execute_reply.started": "2021-06-25T18:15:20.621506Z"
    }
   },
   "outputs": [
    {
     "name": "stdout",
     "output_type": "stream",
     "text": [
      " * sqlite://\n",
      "Done.\n"
     ]
    },
    {
     "data": {
      "text/html": [
       "<table>\n",
       "    <tr>\n",
       "        <th>key</th>\n",
       "    </tr>\n",
       "    <tr>\n",
       "        <td>sale_1</td>\n",
       "    </tr>\n",
       "    <tr>\n",
       "        <td>sale_2</td>\n",
       "    </tr>\n",
       "    <tr>\n",
       "        <td>sale_3</td>\n",
       "    </tr>\n",
       "    <tr>\n",
       "        <td>sale_4</td>\n",
       "    </tr>\n",
       "    <tr>\n",
       "        <td>sale_5</td>\n",
       "    </tr>\n",
       "    <tr>\n",
       "        <td>sale_6</td>\n",
       "    </tr>\n",
       "</table>"
      ],
      "text/plain": [
       "[('sale_1',), ('sale_2',), ('sale_3',), ('sale_4',), ('sale_5',), ('sale_6',)]"
      ]
     },
     "execution_count": 14,
     "metadata": {},
     "output_type": "execute_result"
    }
   ],
   "source": [
    "%%sql\n",
    "\n",
    "SELECT key FROM sales"
   ]
  }
 ],
 "metadata": {
  "kernelspec": {
   "display_name": "Python 3",
   "language": "python",
   "name": "python3"
  },
  "language_info": {
   "codemirror_mode": {
    "name": "ipython",
    "version": 3
   },
   "file_extension": ".py",
   "mimetype": "text/x-python",
   "name": "python",
   "nbconvert_exporter": "python",
   "pygments_lexer": "ipython3",
   "version": "3.6.9"
  }
 },
 "nbformat": 4,
 "nbformat_minor": 4
}
