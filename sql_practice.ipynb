{
 "cells": [
  {
   "cell_type": "code",
   "execution_count": 2,
   "metadata": {
    "execution": {
     "iopub.execute_input": "2021-06-26T21:22:20.199350Z",
     "iopub.status.busy": "2021-06-26T21:22:20.199350Z",
     "iopub.status.idle": "2021-06-26T21:22:22.177313Z",
     "shell.execute_reply": "2021-06-26T21:22:22.176346Z",
     "shell.execute_reply.started": "2021-06-26T21:22:20.199350Z"
    }
   },
   "outputs": [],
   "source": [
    "import pandas as pd\n",
    "%load_ext sql\n",
    "%sql sqlite://"
   ]
  },
  {
   "cell_type": "markdown",
   "metadata": {},
   "source": [
    "# SQL with LOTR: Elven Wildcards - 7th\n",
    "\n",
    "Deep within the fair realm of Lothlórien, you have been asked to create a shortlist of candidates for a recently vacated position on the council.\n",
    "\n",
    "Of so many worthy elves, who to choose for such a lofty position? After much thought you decide to select candidates by name, which are often closely aligned to an elf's skill and temperament.\n",
    "\n",
    "Choose those with tegil appearing anywhere in their first name, as they are likely to be good calligraphers, OR those with astar anywhere in their last name, who will be faithful to the role.\n",
    "\n",
    "Elves table:\n",
    "\n",
    "- firstname\n",
    "- lastname  \n",
    "\n",
    "all names are in lowercase\n",
    "\n",
    "To aid the scribes, return the firstname and lastname column concatenated, separated by a space, into a single shortlist column, and capitalise the first letter of each name."
   ]
  },
  {
   "cell_type": "markdown",
   "metadata": {},
   "source": [
    "### Correct Answer\n",
    "Didn't work in this notebook because I'm using sqlite and Codewars uses postgreSQL "
   ]
  },
  {
   "cell_type": "code",
   "execution_count": 1,
   "metadata": {
    "execution": {
     "iopub.execute_input": "2021-06-26T21:22:19.895313Z",
     "iopub.status.busy": "2021-06-26T21:22:19.895313Z",
     "iopub.status.idle": "2021-06-26T21:22:19.902311Z",
     "shell.execute_reply": "2021-06-26T21:22:19.901313Z",
     "shell.execute_reply.started": "2021-06-26T21:22:19.895313Z"
    }
   },
   "outputs": [],
   "source": [
    "SELECT INITCAP(CONCAT(firstname, ' ', lastname)) AS shortlist\n",
    "FROM elves \n",
    "WHERE firstname LIKE '%tegil%'\n",
    "  OR  lastname LIKE '%astar%'"
   ]
  },
  {
   "cell_type": "markdown",
   "metadata": {},
   "source": [
    "----"
   ]
  },
  {
   "cell_type": "code",
   "execution_count": 5,
   "metadata": {
    "execution": {
     "iopub.execute_input": "2021-06-26T21:23:54.109363Z",
     "iopub.status.busy": "2021-06-26T21:23:54.108363Z",
     "iopub.status.idle": "2021-06-26T21:23:54.135366Z",
     "shell.execute_reply": "2021-06-26T21:23:54.133371Z",
     "shell.execute_reply.started": "2021-06-26T21:23:54.109363Z"
    }
   },
   "outputs": [
    {
     "name": "stdout",
     "output_type": "stream",
     "text": [
      " * sqlite://\n",
      "Done.\n"
     ]
    },
    {
     "data": {
      "text/html": [
       "<table>\n",
       "    <tr>\n",
       "        <th>fullname</th>\n",
       "    </tr>\n",
       "    <tr>\n",
       "        <td>dierrien lanthirion</td>\n",
       "    </tr>\n",
       "</table>"
      ],
      "text/plain": [
       "[('dierrien lanthirion',)]"
      ]
     },
     "execution_count": 5,
     "metadata": {},
     "output_type": "execute_result"
    }
   ],
   "source": [
    "%%sql\n",
    "\n",
    "SELECT firstname || ' ' || lastname AS fullname FROM elves \n",
    "WHERE firstname LIKE '%ierr%'\n",
    "\n"
   ]
  },
  {
   "cell_type": "code",
   "execution_count": 3,
   "metadata": {
    "execution": {
     "iopub.execute_input": "2021-06-26T21:23:44.410530Z",
     "iopub.status.busy": "2021-06-26T21:23:44.410530Z",
     "iopub.status.idle": "2021-06-26T21:23:44.446527Z",
     "shell.execute_reply": "2021-06-26T21:23:44.445526Z",
     "shell.execute_reply.started": "2021-06-26T21:23:44.410530Z"
    }
   },
   "outputs": [
    {
     "name": "stdout",
     "output_type": "stream",
     "text": [
      " * sqlite://\n",
      "Done.\n"
     ]
    },
    {
     "data": {
      "text/plain": [
       "[]"
      ]
     },
     "execution_count": 3,
     "metadata": {},
     "output_type": "execute_result"
    }
   ],
   "source": [
    "%%sql\n",
    "\n",
    "CREATE TABLE elves\n",
    "(\n",
    "    firstname   text,\n",
    "    lastname   text\n",
    ");"
   ]
  },
  {
   "cell_type": "code",
   "execution_count": 4,
   "metadata": {
    "execution": {
     "iopub.execute_input": "2021-06-26T21:23:46.570634Z",
     "iopub.status.busy": "2021-06-26T21:23:46.569635Z",
     "iopub.status.idle": "2021-06-26T21:23:46.588634Z",
     "shell.execute_reply": "2021-06-26T21:23:46.587635Z",
     "shell.execute_reply.started": "2021-06-26T21:23:46.570634Z"
    }
   },
   "outputs": [
    {
     "name": "stdout",
     "output_type": "stream",
     "text": [
      " * sqlite://\n",
      "4 rows affected.\n"
     ]
    },
    {
     "data": {
      "text/plain": [
       "[]"
      ]
     },
     "execution_count": 4,
     "metadata": {},
     "output_type": "execute_result"
    }
   ],
   "source": [
    "%%sql\n",
    "\n",
    "INSERT INTO elves\n",
    "VALUES \n",
    "    ('dierrien', 'lanthirion'),\n",
    "    ('celontar', 'lastwen'),\n",
    "    ('heel', 'ianthan'),\n",
    "    ('lasden', 'dariel');"
   ]
  },
  {
   "cell_type": "code",
   "execution_count": null,
   "metadata": {},
   "outputs": [],
   "source": []
  },
  {
   "cell_type": "code",
   "execution_count": null,
   "metadata": {},
   "outputs": [],
   "source": []
  },
  {
   "cell_type": "markdown",
   "metadata": {},
   "source": [
    "# Countries Capitals for Trivia Night - 7th\n",
    "Your friends told you that if you keep coding on your computer, you are going to hurt your eyes. They suggested that you go with them to trivia night at the local club.\n",
    "\n",
    "Once you arrive at the club, you realize the true motive behind your friends' invitation. They know that you are a computer nerd, and they want you to query the countries table and get the answers to the trivia questions.\n",
    "\n",
    "Schema of the countries table:\n",
    "\n",
    "- country (String)\n",
    "- capital (String)\n",
    "- continent (String)\n",
    "The first question: from the African countries that start with the character E, get the names of their capitals ordered alphabetically.\n",
    "\n",
    "You should only give the names of the capitals. Any additional information is just noise\n",
    "If you get more than 3, you will be kicked out, for being too smart\n",
    "Also, this database is crowd-sourced, so sometimes Africa is written Africa and in other times Afrika.\n",
    "Resources:\n",
    "\n",
    "SQL LIKE Oerator\n",
    "SQL IN Operator\n",
    "SQL ORDER BY"
   ]
  },
  {
   "cell_type": "code",
   "execution_count": 2,
   "metadata": {
    "execution": {
     "iopub.execute_input": "2021-06-25T18:41:09.429011Z",
     "iopub.status.busy": "2021-06-25T18:41:09.428040Z",
     "iopub.status.idle": "2021-06-25T18:41:09.474025Z",
     "shell.execute_reply": "2021-06-25T18:41:09.471014Z",
     "shell.execute_reply.started": "2021-06-25T18:41:09.429011Z"
    }
   },
   "outputs": [
    {
     "name": "stdout",
     "output_type": "stream",
     "text": [
      " * sqlite://\n",
      "Done.\n"
     ]
    },
    {
     "data": {
      "text/plain": [
       "[]"
      ]
     },
     "execution_count": 2,
     "metadata": {},
     "output_type": "execute_result"
    }
   ],
   "source": [
    "%%sql\n",
    "\n",
    "CREATE TABLE countries\n",
    "(\n",
    "    country   varchar(6),\n",
    "    capital   varchar(6),\n",
    "    continent  varchar(6)\n",
    ");"
   ]
  },
  {
   "cell_type": "code",
   "execution_count": 4,
   "metadata": {
    "execution": {
     "iopub.execute_input": "2021-06-25T18:41:56.189474Z",
     "iopub.status.busy": "2021-06-25T18:41:56.189474Z",
     "iopub.status.idle": "2021-06-25T18:41:56.207436Z",
     "shell.execute_reply": "2021-06-25T18:41:56.206434Z",
     "shell.execute_reply.started": "2021-06-25T18:41:56.189474Z"
    }
   },
   "outputs": [
    {
     "name": "stdout",
     "output_type": "stream",
     "text": [
      " * sqlite://\n",
      "4 rows affected.\n"
     ]
    },
    {
     "data": {
      "text/plain": [
       "[]"
      ]
     },
     "execution_count": 4,
     "metadata": {},
     "output_type": "execute_result"
    }
   ],
   "source": [
    "%%sql\n",
    "\n",
    "INSERT INTO countries\n",
    "VALUES \n",
    "    ('Eswatini', 'Lobamba', 'Afrika'),\n",
    "    ('Nigeria', 'Abuja', 'Africa'),\n",
    "    ('Ethiopia', 'Addis Ababa', 'Africa'),\n",
    "    ('Jordan', 'Amman', 'Asia');"
   ]
  },
  {
   "cell_type": "markdown",
   "metadata": {
    "execution": {
     "iopub.execute_input": "2021-06-25T19:00:20.705030Z",
     "iopub.status.busy": "2021-06-25T19:00:20.705030Z",
     "iopub.status.idle": "2021-06-25T19:00:20.721030Z",
     "shell.execute_reply": "2021-06-25T19:00:20.720030Z",
     "shell.execute_reply.started": "2021-06-25T19:00:20.705030Z"
    }
   },
   "source": [
    "### Answer"
   ]
  },
  {
   "cell_type": "code",
   "execution_count": 9,
   "metadata": {
    "execution": {
     "iopub.execute_input": "2021-06-25T19:00:05.453316Z",
     "iopub.status.busy": "2021-06-25T19:00:05.453316Z",
     "iopub.status.idle": "2021-06-25T19:00:05.470316Z",
     "shell.execute_reply": "2021-06-25T19:00:05.469320Z",
     "shell.execute_reply.started": "2021-06-25T19:00:05.453316Z"
    }
   },
   "outputs": [
    {
     "name": "stdout",
     "output_type": "stream",
     "text": [
      " * sqlite://\n",
      "Done.\n"
     ]
    },
    {
     "data": {
      "text/html": [
       "<table>\n",
       "    <tr>\n",
       "        <th>capital</th>\n",
       "    </tr>\n",
       "    <tr>\n",
       "        <td>Addis Ababa</td>\n",
       "    </tr>\n",
       "    <tr>\n",
       "        <td>Lobamba</td>\n",
       "    </tr>\n",
       "</table>"
      ],
      "text/plain": [
       "[('Addis Ababa',), ('Lobamba',)]"
      ]
     },
     "execution_count": 9,
     "metadata": {},
     "output_type": "execute_result"
    }
   ],
   "source": [
    "%%sql\n",
    "SELECT capital from COUNTRIES\n",
    "    WHERE country LIKE 'E%'\n",
    "    AND continent IN ('Africa', 'Afrika')\n",
    "    ORDER BY capital\n",
    "    LIMIT 3;"
   ]
  },
  {
   "cell_type": "code",
   "execution_count": null,
   "metadata": {},
   "outputs": [],
   "source": []
  }
 ],
 "metadata": {
  "kernelspec": {
   "display_name": "Python 3",
   "language": "python",
   "name": "python3"
  },
  "language_info": {
   "codemirror_mode": {
    "name": "ipython",
    "version": 3
   },
   "file_extension": ".py",
   "mimetype": "text/x-python",
   "name": "python",
   "nbconvert_exporter": "python",
   "pygments_lexer": "ipython3",
   "version": "3.6.9"
  }
 },
 "nbformat": 4,
 "nbformat_minor": 4
}
