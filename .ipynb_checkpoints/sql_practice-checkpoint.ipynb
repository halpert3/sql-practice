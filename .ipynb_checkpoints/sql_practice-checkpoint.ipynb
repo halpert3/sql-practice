{
 "cells": [
  {
   "cell_type": "code",
   "execution_count": 1,
   "metadata": {
    "execution": {
     "iopub.execute_input": "2021-06-28T19:37:03.385626Z",
     "iopub.status.busy": "2021-06-28T19:37:03.382627Z",
     "iopub.status.idle": "2021-06-28T19:37:07.435627Z",
     "shell.execute_reply": "2021-06-28T19:37:07.433627Z",
     "shell.execute_reply.started": "2021-06-28T19:37:03.385626Z"
    }
   },
   "outputs": [],
   "source": [
    "import pandas as pd\n",
    "%load_ext sql\n",
    "%sql sqlite://"
   ]
  },
  {
   "cell_type": "markdown",
   "metadata": {},
   "source": [
    "# SQL Basics: Simple JOIN with COUNT - 7h\n",
    "For this challenge you need to create a simple SELECT statement that will return all columns from the people table, and join to the toys table so that you can return the COUNT of the toys\n",
    "\n",
    "`people` table schema\n",
    "- id\n",
    "- name  \n",
    "\n",
    "`toys` table schema  \n",
    "- id\n",
    "- name\n",
    "- people_id  \n",
    "\n",
    "You should return all people fields as well as the toy count as \"toy_count\".\n",
    "\n"
   ]
  },
  {
   "cell_type": "code",
   "execution_count": 12,
   "metadata": {
    "execution": {
     "iopub.execute_input": "2021-06-28T19:54:18.011212Z",
     "iopub.status.busy": "2021-06-28T19:54:18.010213Z",
     "iopub.status.idle": "2021-06-28T19:54:18.041213Z",
     "shell.execute_reply": "2021-06-28T19:54:18.039216Z",
     "shell.execute_reply.started": "2021-06-28T19:54:18.011212Z"
    }
   },
   "outputs": [
    {
     "name": "stdout",
     "output_type": "stream",
     "text": [
      " * sqlite://\n",
      "Done.\n"
     ]
    },
    {
     "data": {
      "text/html": [
       "<table>\n",
       "    <tr>\n",
       "        <th>id</th>\n",
       "        <th>name</th>\n",
       "        <th>toy_count</th>\n",
       "    </tr>\n",
       "    <tr>\n",
       "        <td>1</td>\n",
       "        <td>Cruickshank, Leannon and Rice</td>\n",
       "        <td>2</td>\n",
       "    </tr>\n",
       "    <tr>\n",
       "        <td>2</td>\n",
       "        <td>Kutch, Cremin and Hahn</td>\n",
       "        <td>1</td>\n",
       "    </tr>\n",
       "</table>"
      ],
      "text/plain": [
       "[(1, 'Cruickshank, Leannon and Rice', 2), (2, 'Kutch, Cremin and Hahn', 1)]"
      ]
     },
     "execution_count": 12,
     "metadata": {},
     "output_type": "execute_result"
    }
   ],
   "source": [
    "%%sql\n",
    "SELECT \n",
    "  p.id,\n",
    "  p.name,\n",
    "  COUNT(t.name) as toy_count \n",
    "FROM people p JOIN toys t ON p.id = t.people_id \n",
    "group by p.id, p.name"
   ]
  },
  {
   "cell_type": "code",
   "execution_count": 8,
   "metadata": {
    "execution": {
     "iopub.execute_input": "2021-06-28T19:40:26.097600Z",
     "iopub.status.busy": "2021-06-28T19:40:26.097600Z",
     "iopub.status.idle": "2021-06-28T19:40:26.116603Z",
     "shell.execute_reply": "2021-06-28T19:40:26.114603Z",
     "shell.execute_reply.started": "2021-06-28T19:40:26.097600Z"
    }
   },
   "outputs": [
    {
     "name": "stdout",
     "output_type": "stream",
     "text": [
      " * sqlite://\n",
      "Done.\n"
     ]
    },
    {
     "data": {
      "text/html": [
       "<table>\n",
       "    <tr>\n",
       "        <th>id</th>\n",
       "        <th>name</th>\n",
       "        <th>people_id</th>\n",
       "        <th>id_1</th>\n",
       "        <th>name_1</th>\n",
       "    </tr>\n",
       "    <tr>\n",
       "        <td>1</td>\n",
       "        <td>Awesome Steel Table</td>\n",
       "        <td>2</td>\n",
       "        <td>2</td>\n",
       "        <td>Kutch, Cremin and Hahn</td>\n",
       "    </tr>\n",
       "    <tr>\n",
       "        <td>2</td>\n",
       "        <td>Mediocre Granite Table</td>\n",
       "        <td>1</td>\n",
       "        <td>1</td>\n",
       "        <td>Cruickshank, Leannon and Rice</td>\n",
       "    </tr>\n",
       "    <tr>\n",
       "        <td>3</td>\n",
       "        <td>Intelligent Concrete Hat</td>\n",
       "        <td>1</td>\n",
       "        <td>1</td>\n",
       "        <td>Cruickshank, Leannon and Rice</td>\n",
       "    </tr>\n",
       "</table>"
      ],
      "text/plain": [
       "[(1, 'Awesome Steel Table', 2, 2, 'Kutch, Cremin and Hahn'),\n",
       " (2, 'Mediocre Granite Table', 1, 1, 'Cruickshank, Leannon and Rice'),\n",
       " (3, 'Intelligent Concrete Hat', 1, 1, 'Cruickshank, Leannon and Rice')]"
      ]
     },
     "execution_count": 8,
     "metadata": {},
     "output_type": "execute_result"
    }
   ],
   "source": [
    "%%sql\n",
    "\n",
    "SELECT * FROM toys\n",
    "JOIN people ON people.id=toys.people_id"
   ]
  },
  {
   "cell_type": "code",
   "execution_count": 11,
   "metadata": {
    "execution": {
     "iopub.execute_input": "2021-06-28T19:47:17.967098Z",
     "iopub.status.busy": "2021-06-28T19:47:17.966096Z",
     "iopub.status.idle": "2021-06-28T19:47:17.990074Z",
     "shell.execute_reply": "2021-06-28T19:47:17.988075Z",
     "shell.execute_reply.started": "2021-06-28T19:47:17.967098Z"
    }
   },
   "outputs": [
    {
     "name": "stdout",
     "output_type": "stream",
     "text": [
      " * sqlite://\n",
      "Done.\n"
     ]
    },
    {
     "data": {
      "text/html": [
       "<table>\n",
       "    <tr>\n",
       "        <th>name</th>\n",
       "    </tr>\n",
       "    <tr>\n",
       "        <td>Cruickshank, Leannon and Rice</td>\n",
       "    </tr>\n",
       "    <tr>\n",
       "        <td>Cruickshank, Leannon and Rice</td>\n",
       "    </tr>\n",
       "    <tr>\n",
       "        <td>Kutch, Cremin and Hahn</td>\n",
       "    </tr>\n",
       "</table>"
      ],
      "text/plain": [
       "[('Cruickshank, Leannon and Rice',),\n",
       " ('Cruickshank, Leannon and Rice',),\n",
       " ('Kutch, Cremin and Hahn',)]"
      ]
     },
     "execution_count": 11,
     "metadata": {},
     "output_type": "execute_result"
    }
   ],
   "source": [
    "%%sql\n",
    "\n",
    "SELECT people.name FROM people\n",
    "INNER JOIN toys ON people.id=toys.people_id"
   ]
  },
  {
   "cell_type": "code",
   "execution_count": null,
   "metadata": {},
   "outputs": [],
   "source": []
  },
  {
   "cell_type": "code",
   "execution_count": 2,
   "metadata": {
    "execution": {
     "iopub.execute_input": "2021-06-28T19:37:07.437629Z",
     "iopub.status.busy": "2021-06-28T19:37:07.436626Z",
     "iopub.status.idle": "2021-06-28T19:37:07.484637Z",
     "shell.execute_reply": "2021-06-28T19:37:07.481626Z",
     "shell.execute_reply.started": "2021-06-28T19:37:07.437629Z"
    }
   },
   "outputs": [
    {
     "name": "stdout",
     "output_type": "stream",
     "text": [
      " * sqlite://\n",
      "Done.\n",
      "Done.\n"
     ]
    },
    {
     "data": {
      "text/plain": [
       "[]"
      ]
     },
     "execution_count": 2,
     "metadata": {},
     "output_type": "execute_result"
    }
   ],
   "source": [
    "%%sql\n",
    "\n",
    "CREATE TABLE people\n",
    "(\n",
    "    id int,\n",
    "    name text\n",
    ");\n",
    "\n",
    "CREATE TABLE toys\n",
    "(\n",
    "    id int,\n",
    "    name text,\n",
    "    people_id int\n",
    ");"
   ]
  },
  {
   "cell_type": "code",
   "execution_count": 3,
   "metadata": {
    "execution": {
     "iopub.execute_input": "2021-06-28T19:37:07.488628Z",
     "iopub.status.busy": "2021-06-28T19:37:07.487629Z",
     "iopub.status.idle": "2021-06-28T19:37:07.516631Z",
     "shell.execute_reply": "2021-06-28T19:37:07.512629Z",
     "shell.execute_reply.started": "2021-06-28T19:37:07.488628Z"
    }
   },
   "outputs": [
    {
     "name": "stdout",
     "output_type": "stream",
     "text": [
      " * sqlite://\n",
      "2 rows affected.\n",
      "3 rows affected.\n"
     ]
    },
    {
     "data": {
      "text/plain": [
       "[]"
      ]
     },
     "execution_count": 3,
     "metadata": {},
     "output_type": "execute_result"
    }
   ],
   "source": [
    "%%sql\n",
    "\n",
    "INSERT INTO people\n",
    "VALUES \n",
    "    (1, 'Cruickshank, Leannon and Rice'),\n",
    "    (2, 'Kutch, Cremin and Hahn');\n",
    "\n",
    "INSERT INTO toys\n",
    "VALUES \n",
    "    (1, 'Awesome Steel Table', 2),\n",
    "    (2, 'Mediocre Granite Table', 1),\n",
    "    (3, 'Intelligent Concrete Hat', 1);"
   ]
  },
  {
   "cell_type": "code",
   "execution_count": null,
   "metadata": {},
   "outputs": [],
   "source": []
  },
  {
   "cell_type": "code",
   "execution_count": null,
   "metadata": {},
   "outputs": [],
   "source": []
  },
  {
   "cell_type": "markdown",
   "metadata": {},
   "source": [
    "# SQL with LOTR: Elven Wildcards - 7th\n",
    "\n",
    "Deep within the fair realm of Lothlórien, you have been asked to create a shortlist of candidates for a recently vacated position on the council.\n",
    "\n",
    "Of so many worthy elves, who to choose for such a lofty position? After much thought you decide to select candidates by name, which are often closely aligned to an elf's skill and temperament.\n",
    "\n",
    "Choose those with tegil appearing anywhere in their first name, as they are likely to be good calligraphers, OR those with astar anywhere in their last name, who will be faithful to the role.\n",
    "\n",
    "Elves table:\n",
    "\n",
    "- firstname\n",
    "- lastname  \n",
    "\n",
    "all names are in lowercase\n",
    "\n",
    "To aid the scribes, return the firstname and lastname column concatenated, separated by a space, into a single shortlist column, and capitalise the first letter of each name."
   ]
  },
  {
   "cell_type": "markdown",
   "metadata": {},
   "source": [
    "### Correct Answer\n",
    "Didn't work in this notebook because I'm using sqlite and Codewars uses postgreSQL "
   ]
  },
  {
   "cell_type": "code",
   "execution_count": 1,
   "metadata": {
    "execution": {
     "iopub.execute_input": "2021-06-26T21:22:19.895313Z",
     "iopub.status.busy": "2021-06-26T21:22:19.895313Z",
     "iopub.status.idle": "2021-06-26T21:22:19.902311Z",
     "shell.execute_reply": "2021-06-26T21:22:19.901313Z",
     "shell.execute_reply.started": "2021-06-26T21:22:19.895313Z"
    }
   },
   "outputs": [],
   "source": [
    "SELECT INITCAP(CONCAT(firstname, ' ', lastname)) AS shortlist\n",
    "FROM elves \n",
    "WHERE firstname LIKE '%tegil%'\n",
    "  OR  lastname LIKE '%astar%'"
   ]
  },
  {
   "cell_type": "markdown",
   "metadata": {},
   "source": [
    "----"
   ]
  },
  {
   "cell_type": "code",
   "execution_count": 5,
   "metadata": {
    "execution": {
     "iopub.execute_input": "2021-06-26T21:23:54.109363Z",
     "iopub.status.busy": "2021-06-26T21:23:54.108363Z",
     "iopub.status.idle": "2021-06-26T21:23:54.135366Z",
     "shell.execute_reply": "2021-06-26T21:23:54.133371Z",
     "shell.execute_reply.started": "2021-06-26T21:23:54.109363Z"
    }
   },
   "outputs": [
    {
     "name": "stdout",
     "output_type": "stream",
     "text": [
      " * sqlite://\n",
      "Done.\n"
     ]
    },
    {
     "data": {
      "text/html": [
       "<table>\n",
       "    <tr>\n",
       "        <th>fullname</th>\n",
       "    </tr>\n",
       "    <tr>\n",
       "        <td>dierrien lanthirion</td>\n",
       "    </tr>\n",
       "</table>"
      ],
      "text/plain": [
       "[('dierrien lanthirion',)]"
      ]
     },
     "execution_count": 5,
     "metadata": {},
     "output_type": "execute_result"
    }
   ],
   "source": [
    "%%sql\n",
    "\n",
    "SELECT firstname || ' ' || lastname AS fullname FROM elves \n",
    "WHERE firstname LIKE '%ierr%'\n",
    "\n"
   ]
  },
  {
   "cell_type": "code",
   "execution_count": 3,
   "metadata": {
    "execution": {
     "iopub.execute_input": "2021-06-26T21:23:44.410530Z",
     "iopub.status.busy": "2021-06-26T21:23:44.410530Z",
     "iopub.status.idle": "2021-06-26T21:23:44.446527Z",
     "shell.execute_reply": "2021-06-26T21:23:44.445526Z",
     "shell.execute_reply.started": "2021-06-26T21:23:44.410530Z"
    }
   },
   "outputs": [
    {
     "name": "stdout",
     "output_type": "stream",
     "text": [
      " * sqlite://\n",
      "Done.\n"
     ]
    },
    {
     "data": {
      "text/plain": [
       "[]"
      ]
     },
     "execution_count": 3,
     "metadata": {},
     "output_type": "execute_result"
    }
   ],
   "source": [
    "%%sql\n",
    "\n",
    "CREATE TABLE elves\n",
    "(\n",
    "    firstname   text,\n",
    "    lastname   text\n",
    ");"
   ]
  },
  {
   "cell_type": "code",
   "execution_count": 4,
   "metadata": {
    "execution": {
     "iopub.execute_input": "2021-06-26T21:23:46.570634Z",
     "iopub.status.busy": "2021-06-26T21:23:46.569635Z",
     "iopub.status.idle": "2021-06-26T21:23:46.588634Z",
     "shell.execute_reply": "2021-06-26T21:23:46.587635Z",
     "shell.execute_reply.started": "2021-06-26T21:23:46.570634Z"
    }
   },
   "outputs": [
    {
     "name": "stdout",
     "output_type": "stream",
     "text": [
      " * sqlite://\n",
      "4 rows affected.\n"
     ]
    },
    {
     "data": {
      "text/plain": [
       "[]"
      ]
     },
     "execution_count": 4,
     "metadata": {},
     "output_type": "execute_result"
    }
   ],
   "source": [
    "%%sql\n",
    "\n",
    "INSERT INTO elves\n",
    "VALUES \n",
    "    ('dierrien', 'lanthirion'),\n",
    "    ('celontar', 'lastwen'),\n",
    "    ('heel', 'ianthan'),\n",
    "    ('lasden', 'dariel');"
   ]
  },
  {
   "cell_type": "code",
   "execution_count": null,
   "metadata": {},
   "outputs": [],
   "source": []
  },
  {
   "cell_type": "code",
   "execution_count": null,
   "metadata": {},
   "outputs": [],
   "source": []
  },
  {
   "cell_type": "markdown",
   "metadata": {},
   "source": [
    "# Countries Capitals for Trivia Night - 7th\n",
    "Your friends told you that if you keep coding on your computer, you are going to hurt your eyes. They suggested that you go with them to trivia night at the local club.\n",
    "\n",
    "Once you arrive at the club, you realize the true motive behind your friends' invitation. They know that you are a computer nerd, and they want you to query the countries table and get the answers to the trivia questions.\n",
    "\n",
    "Schema of the countries table:\n",
    "\n",
    "- country (String)\n",
    "- capital (String)\n",
    "- continent (String)\n",
    "The first question: from the African countries that start with the character E, get the names of their capitals ordered alphabetically.\n",
    "\n",
    "You should only give the names of the capitals. Any additional information is just noise\n",
    "If you get more than 3, you will be kicked out, for being too smart\n",
    "Also, this database is crowd-sourced, so sometimes Africa is written Africa and in other times Afrika.\n",
    "Resources:\n",
    "\n",
    "SQL LIKE Oerator\n",
    "SQL IN Operator\n",
    "SQL ORDER BY"
   ]
  },
  {
   "cell_type": "code",
   "execution_count": 2,
   "metadata": {
    "execution": {
     "iopub.execute_input": "2021-06-25T18:41:09.429011Z",
     "iopub.status.busy": "2021-06-25T18:41:09.428040Z",
     "iopub.status.idle": "2021-06-25T18:41:09.474025Z",
     "shell.execute_reply": "2021-06-25T18:41:09.471014Z",
     "shell.execute_reply.started": "2021-06-25T18:41:09.429011Z"
    }
   },
   "outputs": [
    {
     "name": "stdout",
     "output_type": "stream",
     "text": [
      " * sqlite://\n",
      "Done.\n"
     ]
    },
    {
     "data": {
      "text/plain": [
       "[]"
      ]
     },
     "execution_count": 2,
     "metadata": {},
     "output_type": "execute_result"
    }
   ],
   "source": [
    "%%sql\n",
    "\n",
    "CREATE TABLE countries\n",
    "(\n",
    "    country   varchar(6),\n",
    "    capital   varchar(6),\n",
    "    continent  varchar(6)\n",
    ");"
   ]
  },
  {
   "cell_type": "code",
   "execution_count": 4,
   "metadata": {
    "execution": {
     "iopub.execute_input": "2021-06-25T18:41:56.189474Z",
     "iopub.status.busy": "2021-06-25T18:41:56.189474Z",
     "iopub.status.idle": "2021-06-25T18:41:56.207436Z",
     "shell.execute_reply": "2021-06-25T18:41:56.206434Z",
     "shell.execute_reply.started": "2021-06-25T18:41:56.189474Z"
    }
   },
   "outputs": [
    {
     "name": "stdout",
     "output_type": "stream",
     "text": [
      " * sqlite://\n",
      "4 rows affected.\n"
     ]
    },
    {
     "data": {
      "text/plain": [
       "[]"
      ]
     },
     "execution_count": 4,
     "metadata": {},
     "output_type": "execute_result"
    }
   ],
   "source": [
    "%%sql\n",
    "\n",
    "INSERT INTO countries\n",
    "VALUES \n",
    "    ('Eswatini', 'Lobamba', 'Afrika'),\n",
    "    ('Nigeria', 'Abuja', 'Africa'),\n",
    "    ('Ethiopia', 'Addis Ababa', 'Africa'),\n",
    "    ('Jordan', 'Amman', 'Asia');"
   ]
  },
  {
   "cell_type": "markdown",
   "metadata": {
    "execution": {
     "iopub.execute_input": "2021-06-25T19:00:20.705030Z",
     "iopub.status.busy": "2021-06-25T19:00:20.705030Z",
     "iopub.status.idle": "2021-06-25T19:00:20.721030Z",
     "shell.execute_reply": "2021-06-25T19:00:20.720030Z",
     "shell.execute_reply.started": "2021-06-25T19:00:20.705030Z"
    }
   },
   "source": [
    "### Answer"
   ]
  },
  {
   "cell_type": "code",
   "execution_count": 9,
   "metadata": {
    "execution": {
     "iopub.execute_input": "2021-06-25T19:00:05.453316Z",
     "iopub.status.busy": "2021-06-25T19:00:05.453316Z",
     "iopub.status.idle": "2021-06-25T19:00:05.470316Z",
     "shell.execute_reply": "2021-06-25T19:00:05.469320Z",
     "shell.execute_reply.started": "2021-06-25T19:00:05.453316Z"
    }
   },
   "outputs": [
    {
     "name": "stdout",
     "output_type": "stream",
     "text": [
      " * sqlite://\n",
      "Done.\n"
     ]
    },
    {
     "data": {
      "text/html": [
       "<table>\n",
       "    <tr>\n",
       "        <th>capital</th>\n",
       "    </tr>\n",
       "    <tr>\n",
       "        <td>Addis Ababa</td>\n",
       "    </tr>\n",
       "    <tr>\n",
       "        <td>Lobamba</td>\n",
       "    </tr>\n",
       "</table>"
      ],
      "text/plain": [
       "[('Addis Ababa',), ('Lobamba',)]"
      ]
     },
     "execution_count": 9,
     "metadata": {},
     "output_type": "execute_result"
    }
   ],
   "source": [
    "%%sql\n",
    "SELECT capital from COUNTRIES\n",
    "    WHERE country LIKE 'E%'\n",
    "    AND continent IN ('Africa', 'Afrika')\n",
    "    ORDER BY capital\n",
    "    LIMIT 3;"
   ]
  },
  {
   "cell_type": "code",
   "execution_count": null,
   "metadata": {},
   "outputs": [],
   "source": []
  }
 ],
 "metadata": {
  "kernelspec": {
   "display_name": "Python 3",
   "language": "python",
   "name": "python3"
  },
  "language_info": {
   "codemirror_mode": {
    "name": "ipython",
    "version": 3
   },
   "file_extension": ".py",
   "mimetype": "text/x-python",
   "name": "python",
   "nbconvert_exporter": "python",
   "pygments_lexer": "ipython3",
   "version": "3.6.9"
  }
 },
 "nbformat": 4,
 "nbformat_minor": 4
}
